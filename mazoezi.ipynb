{
  "nbformat": 4,
  "nbformat_minor": 0,
  "metadata": {
    "colab": {
      "provenance": [],
      "toc_visible": true,
      "authorship_tag": "ABX9TyO0Q2W7d9T9b2raMs+pjK2O",
      "include_colab_link": true
    },
    "kernelspec": {
      "name": "python3",
      "display_name": "Python 3"
    },
    "language_info": {
      "name": "python"
    }
  },
  "cells": [
    {
      "cell_type": "markdown",
      "metadata": {
        "id": "view-in-github",
        "colab_type": "text"
      },
      "source": [
        "<a href=\"https://colab.research.google.com/github/Namtanga/Hackathon16_03_2024/blob/main/mazoezi.ipynb\" target=\"_parent\"><img src=\"https://colab.research.google.com/assets/colab-badge.svg\" alt=\"Open In Colab\"/></a>"
      ]
    },
    {
      "cell_type": "code",
      "execution_count": 72,
      "metadata": {
        "colab": {
          "base_uri": "https://localhost:8080/"
        },
        "id": "mYjpeRik8UNd",
        "outputId": "1720be13-e4a8-4684-f9d3-d1f2f753a8cc"
      },
      "outputs": [
        {
          "output_type": "stream",
          "name": "stdout",
          "text": [
            "['meza', 'kiti', 'kitanda']\n",
            "['meza', 'kiti', 'kitanda']\n",
            "['meza', 'kiti', 'kitanda']\n"
          ]
        }
      ],
      "source": [
        "properties=[\"meza\", \"kiti\", \"kitanda\"]\n",
        "for propery in properties:\n",
        "  print(properties)"
      ]
    },
    {
      "cell_type": "markdown",
      "source": [
        "printing the lenght"
      ],
      "metadata": {
        "id": "2h1W_tLlSxO7"
      }
    },
    {
      "cell_type": "code",
      "source": [
        "print(len(properties))"
      ],
      "metadata": {
        "colab": {
          "base_uri": "https://localhost:8080/"
        },
        "id": "gQU0QYXH9ukv",
        "outputId": "0a5a1c3c-e4af-488a-d7d6-a07ab182db9c"
      },
      "execution_count": 73,
      "outputs": [
        {
          "output_type": "stream",
          "name": "stdout",
          "text": [
            "3\n"
          ]
        }
      ]
    },
    {
      "cell_type": "code",
      "source": [
        "properties.append(\"begi\")\n",
        "print(properties)"
      ],
      "metadata": {
        "colab": {
          "base_uri": "https://localhost:8080/"
        },
        "id": "ksob-JVj96Ei",
        "outputId": "c84cbdc9-3024-4659-8dde-a7a0b4c93dd8"
      },
      "execution_count": 74,
      "outputs": [
        {
          "output_type": "stream",
          "name": "stdout",
          "text": [
            "['meza', 'kiti', 'kitanda', 'begi']\n"
          ]
        }
      ]
    },
    {
      "cell_type": "code",
      "source": [
        "properties.remove('meza')\n",
        "print(properties)"
      ],
      "metadata": {
        "colab": {
          "base_uri": "https://localhost:8080/"
        },
        "id": "AxBw4z99-mK8",
        "outputId": "4fd45ec0-c028-4c0d-a038-212881b31896"
      },
      "execution_count": 75,
      "outputs": [
        {
          "output_type": "stream",
          "name": "stdout",
          "text": [
            "['kiti', 'kitanda', 'begi']\n"
          ]
        }
      ]
    },
    {
      "cell_type": "code",
      "source": [
        "properties.remove(\"kiti\")"
      ],
      "metadata": {
        "id": "qBWrsi7g_43g"
      },
      "execution_count": 76,
      "outputs": []
    },
    {
      "cell_type": "code",
      "source": [
        "print(properties)"
      ],
      "metadata": {
        "colab": {
          "base_uri": "https://localhost:8080/"
        },
        "id": "HnSvp14cFJY8",
        "outputId": "7b78442b-6e70-4785-cd67-0e91780d748d"
      },
      "execution_count": 77,
      "outputs": [
        {
          "output_type": "stream",
          "name": "stdout",
          "text": [
            "['kitanda', 'begi']\n"
          ]
        }
      ]
    },
    {
      "cell_type": "code",
      "source": [
        "properties.append(\"radio\")"
      ],
      "metadata": {
        "id": "bFgcUmCgARhO"
      },
      "execution_count": 78,
      "outputs": []
    },
    {
      "cell_type": "code",
      "source": [
        "print(properties)"
      ],
      "metadata": {
        "colab": {
          "base_uri": "https://localhost:8080/"
        },
        "id": "UPyBWr9qHBv7",
        "outputId": "87109d20-0fd9-4431-e1f9-e54fd784736d"
      },
      "execution_count": 79,
      "outputs": [
        {
          "output_type": "stream",
          "name": "stdout",
          "text": [
            "['kitanda', 'begi', 'radio']\n"
          ]
        }
      ]
    },
    {
      "cell_type": "code",
      "source": [
        "properties.append(\"komputa\")"
      ],
      "metadata": {
        "id": "Bv4Npf1rNOl5"
      },
      "execution_count": 80,
      "outputs": []
    },
    {
      "cell_type": "code",
      "source": [
        "mali=(\"tv\",\"frigi\")"
      ],
      "metadata": {
        "id": "yhYSLmDIODlq"
      },
      "execution_count": 81,
      "outputs": []
    },
    {
      "cell_type": "code",
      "source": [
        "print(properties)"
      ],
      "metadata": {
        "id": "aGUk2VLtOdkW"
      },
      "execution_count": null,
      "outputs": []
    },
    {
      "cell_type": "code",
      "source": [],
      "metadata": {
        "id": "r2JlFfm7PScp"
      },
      "execution_count": null,
      "outputs": []
    },
    {
      "cell_type": "code",
      "source": [
        "print(properties)"
      ],
      "metadata": {
        "id": "NvJioO6UO6Fz"
      },
      "execution_count": null,
      "outputs": []
    },
    {
      "cell_type": "code",
      "source": [
        "properties.extend(mali)"
      ],
      "metadata": {
        "id": "1xDM4W-GPFFE"
      },
      "execution_count": null,
      "outputs": []
    },
    {
      "cell_type": "code",
      "source": [
        "print(properties)"
      ],
      "metadata": {
        "id": "ndwCAKj_PTzV"
      },
      "execution_count": null,
      "outputs": []
    },
    {
      "cell_type": "markdown",
      "source": [
        "**Perfom union operation**"
      ],
      "metadata": {
        "id": "KAN4gI_LSq1d"
      }
    },
    {
      "cell_type": "code",
      "source": [
        "A={1,6,9}\n",
        "B={0,5,8}\n",
        "print(\"union of A & B is\",A|B)"
      ],
      "metadata": {
        "colab": {
          "base_uri": "https://localhost:8080/"
        },
        "id": "_vytEUxZVwaC",
        "outputId": "ef8961c4-6ed5-446c-d97f-69e57cb42a6f"
      },
      "execution_count": 85,
      "outputs": [
        {
          "output_type": "stream",
          "name": "stdout",
          "text": [
            "union of A & B is {0, 1, 5, 6, 8, 9}\n"
          ]
        }
      ]
    },
    {
      "cell_type": "code",
      "source": [
        "#perfom Intersection Operation\n",
        "A={1,6,7,9}\n",
        "B={0,5,7,8}\n",
        "print(\"Intersection of A and B is \", A & B)"
      ],
      "metadata": {
        "colab": {
          "base_uri": "https://localhost:8080/"
        },
        "id": "gk7Ps_6nYrdY",
        "outputId": "b5d8ce1b-cefa-4038-8c48-ad3060d86196"
      },
      "execution_count": 87,
      "outputs": [
        {
          "output_type": "stream",
          "name": "stdout",
          "text": [
            "Intersection of A and B is  {7}\n"
          ]
        }
      ]
    },
    {
      "cell_type": "code",
      "source": [
        "print(A-B)"
      ],
      "metadata": {
        "colab": {
          "base_uri": "https://localhost:8080/"
        },
        "id": "2qBjPGZxYw2U",
        "outputId": "d3a544ab-cc8a-4b63-c801-7fb4c36f0995"
      },
      "execution_count": 88,
      "outputs": [
        {
          "output_type": "stream",
          "name": "stdout",
          "text": [
            "{1, 9, 6}\n"
          ]
        }
      ]
    },
    {
      "cell_type": "code",
      "source": [
        "print(A^B)"
      ],
      "metadata": {
        "colab": {
          "base_uri": "https://localhost:8080/"
        },
        "id": "Xls7inqXbhpu",
        "outputId": "3c1df302-abe3-446b-c822-4a6e3826690c"
      },
      "execution_count": 89,
      "outputs": [
        {
          "output_type": "stream",
          "name": "stdout",
          "text": [
            "{0, 1, 5, 6, 8, 9}\n"
          ]
        }
      ]
    },
    {
      "cell_type": "code",
      "source": [
        "print(A & B)"
      ],
      "metadata": {
        "colab": {
          "base_uri": "https://localhost:8080/"
        },
        "id": "AR-CzlgxbwJi",
        "outputId": "f44c13ba-9652-4f48-91d7-40a4d3d0d252"
      },
      "execution_count": 90,
      "outputs": [
        {
          "output_type": "stream",
          "name": "stdout",
          "text": [
            "{7}\n"
          ]
        }
      ]
    },
    {
      "cell_type": "code",
      "source": [
        "properties.index(\"radio\")"
      ],
      "metadata": {
        "colab": {
          "base_uri": "https://localhost:8080/"
        },
        "id": "Gsrh84NvcElJ",
        "outputId": "2cef5452-452b-45db-8b40-7f10721c39c0"
      },
      "execution_count": 96,
      "outputs": [
        {
          "output_type": "execute_result",
          "data": {
            "text/plain": [
              "2"
            ]
          },
          "metadata": {},
          "execution_count": 96
        }
      ]
    },
    {
      "cell_type": "code",
      "source": [
        "properties.count(\"radio\")"
      ],
      "metadata": {
        "colab": {
          "base_uri": "https://localhost:8080/"
        },
        "id": "kz0eGtmGdXj4",
        "outputId": "4411ddb6-25a6-4c12-ce76-99e104efd5a0"
      },
      "execution_count": 97,
      "outputs": [
        {
          "output_type": "execute_result",
          "data": {
            "text/plain": [
              "1"
            ]
          },
          "metadata": {},
          "execution_count": 97
        }
      ]
    },
    {
      "cell_type": "code",
      "source": [
        "saidi_properties=[\"kitanda\",\"chupa\",\"printer\", \"jiko\",\"kitanda\", \"kitanda\"]\n",
        "saidi_properties.count(\"kitanda\")\n",
        "len(saidi_properties)"
      ],
      "metadata": {
        "colab": {
          "base_uri": "https://localhost:8080/"
        },
        "id": "W5dxZUZodity",
        "outputId": "ac0f0ab3-12a6-4ba3-f85c-9932b9ac4c00"
      },
      "execution_count": 115,
      "outputs": [
        {
          "output_type": "execute_result",
          "data": {
            "text/plain": [
              "6"
            ]
          },
          "metadata": {},
          "execution_count": 115
        }
      ]
    }
  ]
}