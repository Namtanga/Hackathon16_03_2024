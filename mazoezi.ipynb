{
  "nbformat": 4,
  "nbformat_minor": 0,
  "metadata": {
    "colab": {
      "provenance": [],
      "authorship_tag": "ABX9TyPaVqisDI4xZYQG5uvYNrlu",
      "include_colab_link": true
    },
    "kernelspec": {
      "name": "python3",
      "display_name": "Python 3"
    },
    "language_info": {
      "name": "python"
    }
  },
  "cells": [
    {
      "cell_type": "markdown",
      "metadata": {
        "id": "view-in-github",
        "colab_type": "text"
      },
      "source": [
        "<a href=\"https://colab.research.google.com/github/Namtanga/Hackathon16_03_2024/blob/main/mazoezi.ipynb\" target=\"_parent\"><img src=\"https://colab.research.google.com/assets/colab-badge.svg\" alt=\"Open In Colab\"/></a>"
      ]
    },
    {
      "cell_type": "code",
      "execution_count": null,
      "metadata": {
        "colab": {
          "base_uri": "https://localhost:8080/"
        },
        "id": "mYjpeRik8UNd",
        "outputId": "f17c0c2c-8176-4404-e828-654e1b486ad5"
      },
      "outputs": [
        {
          "output_type": "stream",
          "name": "stdout",
          "text": [
            "['meza', 'kiti', 'kitand']\n",
            "['meza', 'kiti', 'kitand']\n",
            "['meza', 'kiti', 'kitand']\n"
          ]
        }
      ],
      "source": [
        "properties=[\"meza\", \"kiti\", \"kitand\"]\n",
        "for propery in properties:\n",
        "  print(properties)"
      ]
    },
    {
      "cell_type": "code",
      "source": [
        "print(len(properties))"
      ],
      "metadata": {
        "colab": {
          "base_uri": "https://localhost:8080/"
        },
        "id": "gQU0QYXH9ukv",
        "outputId": "d32374bf-76de-445f-8a1f-1c90b6a0e74e"
      },
      "execution_count": null,
      "outputs": [
        {
          "output_type": "stream",
          "name": "stdout",
          "text": [
            "3\n"
          ]
        }
      ]
    },
    {
      "cell_type": "code",
      "source": [
        "properties.append(\"begi\")\n",
        "print(properties)"
      ],
      "metadata": {
        "colab": {
          "base_uri": "https://localhost:8080/"
        },
        "id": "ksob-JVj96Ei",
        "outputId": "a4257209-25a4-428f-f928-6667c00ddc2c"
      },
      "execution_count": null,
      "outputs": [
        {
          "output_type": "stream",
          "name": "stdout",
          "text": [
            "['meza', 'kiti', 'kitand', 'begi']\n"
          ]
        }
      ]
    },
    {
      "cell_type": "code",
      "source": [
        "properties.remove('meza')\n",
        "print(properties)"
      ],
      "metadata": {
        "id": "AxBw4z99-mK8"
      },
      "execution_count": null,
      "outputs": []
    },
    {
      "cell_type": "code",
      "source": [
        "properties.remove(\"kiti\")"
      ],
      "metadata": {
        "id": "qBWrsi7g_43g"
      },
      "execution_count": null,
      "outputs": []
    },
    {
      "cell_type": "code",
      "source": [
        "print(properties)"
      ],
      "metadata": {
        "colab": {
          "base_uri": "https://localhost:8080/"
        },
        "id": "HnSvp14cFJY8",
        "outputId": "23cde450-4314-4651-db56-daf6d8ac4eb0"
      },
      "execution_count": null,
      "outputs": [
        {
          "output_type": "stream",
          "name": "stdout",
          "text": [
            "['kiti', 'kitand', 'begi']\n"
          ]
        }
      ]
    },
    {
      "cell_type": "code",
      "source": [
        "properties.append(\"radio\")"
      ],
      "metadata": {
        "id": "bFgcUmCgARhO"
      },
      "execution_count": null,
      "outputs": []
    },
    {
      "cell_type": "code",
      "source": [
        "print(properties)"
      ],
      "metadata": {
        "colab": {
          "base_uri": "https://localhost:8080/"
        },
        "id": "UPyBWr9qHBv7",
        "outputId": "6f28cd52-0e9e-4a04-8a4b-8ea334868e06"
      },
      "execution_count": null,
      "outputs": [
        {
          "output_type": "stream",
          "name": "stdout",
          "text": [
            "['kiti', 'kitand', 'begi', 'radio', 'radio']\n"
          ]
        }
      ]
    }
  ]
}